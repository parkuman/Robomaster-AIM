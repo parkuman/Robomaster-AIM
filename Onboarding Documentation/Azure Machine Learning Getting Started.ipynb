{
 "cells": [
  {
   "cell_type": "markdown",
   "metadata": {},
   "source": [
    "# Introduction to Azure and Machine Learning Using Python\n",
    "## Getting Started:\n",
    "*from https://docs.microsoft.com/en-us/azure/machine-learning/service/overview-what-is-azure-ml*\n",
    "### What is Microsoft's Azure?\n",
    "Azure Machine Learning service is a cloud service that you use to train, deploy, automate, and manage machine learning models, all at the broad scale that the cloud provides. Start training on your local machine and then scale out to the cloud. The service fully supports open-source technologies such as PyTorch, TensorFlow, and scikit-learn and can be used for any kind of machine learning, from classical ml to deep learning, supervised and unsupervised learning.\n",
    "\n",
    "### What is machine learning?\n",
    "Machine learning is a data science technique that allows computers to use existing data to forecast future behaviors, outcomes, and trends. By using machine learning, computers learn without being explicitly programmed.\n",
    "\n",
    "The team will be using machine learning to identify enemy robots and automatically fire pellets at opponents, as well as using machine learning to maneuver around obstacles and engage in combat with enemy robots for the ICRA AI only competition.\n",
    "\n",
    "### What can we do with Azure to make cool robots?\n",
    "Use the Azure Machine Learning Python SDK with open-source Python packages, or use the visual interface (preview) to build and train highly accurate machine learning and deep-learning models yourself in an Azure Machine Learning service Workspace.\n",
    "\n",
    "You can choose from many machine learning components available in open-source Python packages, such as Scikit-learn, Tensorflow, PyTorch, and MXNet.\n",
    "\n",
    "Whether you write code or use the visual interface, you can track multiple runs as you experiment to find the best solution as well as manage the deployed models.\n",
    "\n",
    "## Setting up a workspace:\n",
    "Visit this link and follow the *Azure Portal* instructions: https://docs.microsoft.com/en-us/azure/machine-learning/service/setup-create-workspace\n",
    "\n",
    "## Setting Up Your Python Machine Learning Environment\n",
    "\n",
    "### Create an Anaconda environment:\n",
    "Download and install Anaconda (Python 3.7 version) if you don't already have it from here: https://www.anaconda.com/distribution/#download-section\n",
    "\n",
    "Open an Anaconda prompt (on Windows type cmd in search and Anaconda prompt will be an option) and create an environment.\n",
    "\n",
    "Run the following command in the terminal:"
   ]
  },
  {
   "cell_type": "code",
   "execution_count": null,
   "metadata": {},
   "outputs": [],
   "source": [
    "conda create -n azure_ml python=3.6.5"
   ]
  },
  {
   "cell_type": "markdown",
   "metadata": {},
   "source": [
    "Then activate the environment."
   ]
  },
  {
   "cell_type": "markdown",
   "metadata": {},
   "source": [
    "### Activate the new Environment:"
   ]
  },
  {
   "cell_type": "code",
   "execution_count": null,
   "metadata": {},
   "outputs": [],
   "source": [
    "conda activate azure_ml"
   ]
  },
  {
   "cell_type": "markdown",
   "metadata": {},
   "source": [
    "This now means that any packages you install using \"conda install 'package_name'\" will exclusively install that package in your azure_ml environment, so it does not mess with other Python environments on your computer"
   ]
  },
  {
   "cell_type": "markdown",
   "metadata": {},
   "source": [
    "### Install Necessary Packages:\n",
    "Run the following commands in your new environment: "
   ]
  },
  {
   "cell_type": "code",
   "execution_count": null,
   "metadata": {},
   "outputs": [],
   "source": [
    "conda install notebook ipykernel"
   ]
  },
  {
   "cell_type": "code",
   "execution_count": null,
   "metadata": {},
   "outputs": [],
   "source": [
    "ipython kernel install --user"
   ]
  },
  {
   "cell_type": "code",
   "execution_count": null,
   "metadata": {},
   "outputs": [],
   "source": [
    "pip azureml-sdk[notebooks,automl]"
   ]
  },
  {
   "cell_type": "code",
   "execution_count": null,
   "metadata": {},
   "outputs": [],
   "source": [
    "conda install scikit-learn"
   ]
  },
  {
   "cell_type": "markdown",
   "metadata": {},
   "source": [
    "## Tutorial: Image Classification Models Using Azure"
   ]
  },
  {
   "cell_type": "markdown",
   "metadata": {},
   "source": [
    "https://docs.microsoft.com/en-us/azure/machine-learning/service/tutorial-train-models-with-aml"
   ]
  },
  {
   "cell_type": "code",
   "execution_count": null,
   "metadata": {},
   "outputs": [],
   "source": []
  }
 ],
 "metadata": {
  "kernelspec": {
   "display_name": "Python 3",
   "language": "python",
   "name": "python3"
  },
  "language_info": {
   "codemirror_mode": {
    "name": "ipython",
    "version": 3
   },
   "file_extension": ".py",
   "mimetype": "text/x-python",
   "name": "python",
   "nbconvert_exporter": "python",
   "pygments_lexer": "ipython3",
   "version": "3.6.5"
  }
 },
 "nbformat": 4,
 "nbformat_minor": 4
}
